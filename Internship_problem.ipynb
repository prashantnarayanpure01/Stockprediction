{
 "cells": [
  {
   "cell_type": "code",
   "execution_count": 1,
   "id": "98348eee",
   "metadata": {},
   "outputs": [],
   "source": [
    "import pandas as pd                                      #importing pandas library\n",
    "import numpy as np                                       #importing numpy library\n",
    "from sklearn import linear_model                         #importing linear_model from scikit learn\n",
    "from sklearn.model_selection import train_test_split     #importing train_test_split from scikit learn \n",
    "import matplotlib.pyplot as plt     "
   ]
  },
  {
   "cell_type": "code",
   "execution_count": 2,
   "id": "53589107",
   "metadata": {},
   "outputs": [],
   "source": [
    "df = pd.read_csv('stock_market.csv')                     #defining dataframe by extracting data from stock_market.csv"
   ]
  },
  {
   "cell_type": "code",
   "execution_count": 3,
   "id": "279124cc",
   "metadata": {},
   "outputs": [
    {
     "data": {
      "text/html": [
       "<div>\n",
       "<style scoped>\n",
       "    .dataframe tbody tr th:only-of-type {\n",
       "        vertical-align: middle;\n",
       "    }\n",
       "\n",
       "    .dataframe tbody tr th {\n",
       "        vertical-align: top;\n",
       "    }\n",
       "\n",
       "    .dataframe thead th {\n",
       "        text-align: right;\n",
       "    }\n",
       "</style>\n",
       "<table border=\"1\" class=\"dataframe\">\n",
       "  <thead>\n",
       "    <tr style=\"text-align: right;\">\n",
       "      <th></th>\n",
       "      <th>Date</th>\n",
       "      <th>Open</th>\n",
       "      <th>High</th>\n",
       "      <th>Low</th>\n",
       "      <th>Last</th>\n",
       "      <th>Close</th>\n",
       "      <th>Total Trade Quantity</th>\n",
       "      <th>Turnover (Lacs)</th>\n",
       "    </tr>\n",
       "  </thead>\n",
       "  <tbody>\n",
       "    <tr>\n",
       "      <th>0</th>\n",
       "      <td>2018-10-08</td>\n",
       "      <td>208.00</td>\n",
       "      <td>222.25</td>\n",
       "      <td>206.85</td>\n",
       "      <td>216.00</td>\n",
       "      <td>215.15</td>\n",
       "      <td>4642146.0</td>\n",
       "      <td>10062.83</td>\n",
       "    </tr>\n",
       "    <tr>\n",
       "      <th>1</th>\n",
       "      <td>2018-10-05</td>\n",
       "      <td>217.00</td>\n",
       "      <td>218.60</td>\n",
       "      <td>205.90</td>\n",
       "      <td>210.25</td>\n",
       "      <td>209.20</td>\n",
       "      <td>3519515.0</td>\n",
       "      <td>7407.06</td>\n",
       "    </tr>\n",
       "    <tr>\n",
       "      <th>2</th>\n",
       "      <td>2018-10-04</td>\n",
       "      <td>223.50</td>\n",
       "      <td>227.80</td>\n",
       "      <td>216.15</td>\n",
       "      <td>217.25</td>\n",
       "      <td>218.20</td>\n",
       "      <td>1728786.0</td>\n",
       "      <td>3815.79</td>\n",
       "    </tr>\n",
       "    <tr>\n",
       "      <th>3</th>\n",
       "      <td>2018-10-03</td>\n",
       "      <td>230.00</td>\n",
       "      <td>237.50</td>\n",
       "      <td>225.75</td>\n",
       "      <td>226.45</td>\n",
       "      <td>227.60</td>\n",
       "      <td>1708590.0</td>\n",
       "      <td>3960.27</td>\n",
       "    </tr>\n",
       "    <tr>\n",
       "      <th>4</th>\n",
       "      <td>2018-10-01</td>\n",
       "      <td>234.55</td>\n",
       "      <td>234.60</td>\n",
       "      <td>221.05</td>\n",
       "      <td>230.30</td>\n",
       "      <td>230.90</td>\n",
       "      <td>1534749.0</td>\n",
       "      <td>3486.05</td>\n",
       "    </tr>\n",
       "    <tr>\n",
       "      <th>...</th>\n",
       "      <td>...</td>\n",
       "      <td>...</td>\n",
       "      <td>...</td>\n",
       "      <td>...</td>\n",
       "      <td>...</td>\n",
       "      <td>...</td>\n",
       "      <td>...</td>\n",
       "      <td>...</td>\n",
       "    </tr>\n",
       "    <tr>\n",
       "      <th>1230</th>\n",
       "      <td>2013-10-14</td>\n",
       "      <td>160.85</td>\n",
       "      <td>161.45</td>\n",
       "      <td>157.70</td>\n",
       "      <td>159.30</td>\n",
       "      <td>159.45</td>\n",
       "      <td>1281419.0</td>\n",
       "      <td>2039.09</td>\n",
       "    </tr>\n",
       "    <tr>\n",
       "      <th>1231</th>\n",
       "      <td>2013-10-11</td>\n",
       "      <td>161.15</td>\n",
       "      <td>163.45</td>\n",
       "      <td>159.00</td>\n",
       "      <td>159.80</td>\n",
       "      <td>160.05</td>\n",
       "      <td>1880046.0</td>\n",
       "      <td>3030.76</td>\n",
       "    </tr>\n",
       "    <tr>\n",
       "      <th>1232</th>\n",
       "      <td>2013-10-10</td>\n",
       "      <td>156.00</td>\n",
       "      <td>160.80</td>\n",
       "      <td>155.85</td>\n",
       "      <td>160.30</td>\n",
       "      <td>160.15</td>\n",
       "      <td>3124853.0</td>\n",
       "      <td>4978.80</td>\n",
       "    </tr>\n",
       "    <tr>\n",
       "      <th>1233</th>\n",
       "      <td>2013-10-09</td>\n",
       "      <td>155.70</td>\n",
       "      <td>158.20</td>\n",
       "      <td>154.15</td>\n",
       "      <td>155.30</td>\n",
       "      <td>155.55</td>\n",
       "      <td>2049580.0</td>\n",
       "      <td>3204.49</td>\n",
       "    </tr>\n",
       "    <tr>\n",
       "      <th>1234</th>\n",
       "      <td>2013-10-08</td>\n",
       "      <td>157.00</td>\n",
       "      <td>157.80</td>\n",
       "      <td>155.20</td>\n",
       "      <td>155.80</td>\n",
       "      <td>155.80</td>\n",
       "      <td>1720413.0</td>\n",
       "      <td>2688.94</td>\n",
       "    </tr>\n",
       "  </tbody>\n",
       "</table>\n",
       "<p>1235 rows × 8 columns</p>\n",
       "</div>"
      ],
      "text/plain": [
       "            Date    Open    High     Low    Last   Close  \\\n",
       "0     2018-10-08  208.00  222.25  206.85  216.00  215.15   \n",
       "1     2018-10-05  217.00  218.60  205.90  210.25  209.20   \n",
       "2     2018-10-04  223.50  227.80  216.15  217.25  218.20   \n",
       "3     2018-10-03  230.00  237.50  225.75  226.45  227.60   \n",
       "4     2018-10-01  234.55  234.60  221.05  230.30  230.90   \n",
       "...          ...     ...     ...     ...     ...     ...   \n",
       "1230  2013-10-14  160.85  161.45  157.70  159.30  159.45   \n",
       "1231  2013-10-11  161.15  163.45  159.00  159.80  160.05   \n",
       "1232  2013-10-10  156.00  160.80  155.85  160.30  160.15   \n",
       "1233  2013-10-09  155.70  158.20  154.15  155.30  155.55   \n",
       "1234  2013-10-08  157.00  157.80  155.20  155.80  155.80   \n",
       "\n",
       "      Total Trade Quantity  Turnover (Lacs)  \n",
       "0                4642146.0         10062.83  \n",
       "1                3519515.0          7407.06  \n",
       "2                1728786.0          3815.79  \n",
       "3                1708590.0          3960.27  \n",
       "4                1534749.0          3486.05  \n",
       "...                    ...              ...  \n",
       "1230             1281419.0          2039.09  \n",
       "1231             1880046.0          3030.76  \n",
       "1232             3124853.0          4978.80  \n",
       "1233             2049580.0          3204.49  \n",
       "1234             1720413.0          2688.94  \n",
       "\n",
       "[1235 rows x 8 columns]"
      ]
     },
     "execution_count": 3,
     "metadata": {},
     "output_type": "execute_result"
    }
   ],
   "source": [
    "df"
   ]
  },
  {
   "cell_type": "code",
   "execution_count": 4,
   "id": "550485c3",
   "metadata": {},
   "outputs": [
    {
     "data": {
      "text/plain": [
       "<matplotlib.collections.PathCollection at 0x1987e6af3d0>"
      ]
     },
     "execution_count": 4,
     "metadata": {},
     "output_type": "execute_result"
    },
    {
     "data": {
      "image/png": "[encoded data removed]",
      "text/plain": [
       "<Figure size 640x480 with 1 Axes>"
      ]
     },
     "metadata": {},
     "output_type": "display_data"
    }
   ],
   "source": [
    "plt.scatter(df['Open'],df['Close'])\n",
    "plt.scatter(df['High'],df['Close'])\n",
    "plt.scatter(df['Low'],df['Close'])"
   ]
  },
  {
   "cell_type": "code",
   "execution_count": 5,
   "id": "51d42010",
   "metadata": {},
   "outputs": [],
   "source": [
    "x = df[['Open','High','Low']]\n",
    "y = df['Close']"
   ]
  },
  {
   "cell_type": "code",
   "execution_count": 6,
   "id": "20e83700",
   "metadata": {},
   "outputs": [],
   "source": [
    "x_train,x_test,y_train,y_test = train_test_split(x,y,test_size=0.2,random_state=0)"
   ]
  },
  {
   "cell_type": "code",
   "execution_count": 7,
   "id": "e516c232",
   "metadata": {},
   "outputs": [],
   "source": [
    "from sklearn.linear_model import LinearRegression"
   ]
  },
  {
   "cell_type": "code",
   "execution_count": 8,
   "id": "3d491893",
   "metadata": {},
   "outputs": [],
   "source": [
    "model = LinearRegression()"
   ]
  },
  {
   "cell_type": "code",
   "execution_count": 9,
   "id": "5292dbb1",
   "metadata": {},
   "outputs": [
    {
     "data": {
      "text/plain": [
       "LinearRegression()"
      ]
     },
     "execution_count": 9,
     "metadata": {},
     "output_type": "execute_result"
    }
   ],
   "source": [
    "model.fit(x_train,y_train)                     #training the model"
   ]
  },
  {
   "cell_type": "code",
   "execution_count": 10,
   "id": "24a65bdd",
   "metadata": {},
   "outputs": [
    {
     "data": {
      "text/plain": [
       "array([-0.55997283,  0.85119862,  0.70632166])"
      ]
     },
     "execution_count": 10,
     "metadata": {},
     "output_type": "execute_result"
    }
   ],
   "source": [
    "model.coef_                                    #asking the model about coefficients"
   ]
  },
  {
   "cell_type": "code",
   "execution_count": 11,
   "id": "51a630b8",
   "metadata": {},
   "outputs": [
    {
     "data": {
      "text/plain": [
       "-0.11617553739668551"
      ]
     },
     "execution_count": 11,
     "metadata": {},
     "output_type": "execute_result"
    }
   ],
   "source": [
    "model.intercept_                               #asking the model about intercept"
   ]
  },
  {
   "cell_type": "code",
   "execution_count": 12,
   "id": "ec2adbdd",
   "metadata": {
    "scrolled": true
   },
   "outputs": [
    {
     "data": {
      "text/plain": [
       "array([152.7339742 , 221.97899642, 153.14120502, 132.85728845,\n",
       "       315.90459739, 122.929149  , 163.08100064, 127.18503464,\n",
       "       141.47663213, 161.93299917, 171.87435261, 118.59578153,\n",
       "       119.61356863, 157.98783392, 232.25774569, 120.52112885,\n",
       "       243.81739447, 303.78130341, 154.45785342, 160.46320439,\n",
       "       256.45168083, 137.69771508, 141.82551799, 142.19152742,\n",
       "       176.25125532, 126.00123798, 153.02531221, 131.95258123,\n",
       "       118.61071955, 108.87932656, 143.00321368, 153.3796407 ,\n",
       "       103.88873514, 245.99143129, 155.47695902, 146.03042235,\n",
       "       135.22518014, 277.724368  , 124.12441092, 131.88014275,\n",
       "       150.62846515, 122.65611206, 234.22009444, 142.78967917,\n",
       "       121.68738406, 152.62249478, 149.49906531, 169.56380039,\n",
       "       276.59263027, 119.4261168 , 236.7348873 , 140.34678089,\n",
       "       159.60787433, 120.55027877, 158.41840916, 137.16608409,\n",
       "       155.88115613, 155.24221322, 139.6876519 , 124.95268412,\n",
       "       138.91215135, 117.01005058, 274.67021213, 143.9154154 ,\n",
       "       142.57016468, 137.75379724, 155.58183323, 233.95823718,\n",
       "       154.26920406, 146.66998388, 162.4087899 , 144.08131675,\n",
       "       139.31804987, 118.28662264, 118.49562385, 238.5292067 ,\n",
       "       107.57757755, 167.29077603, 147.2641401 , 153.23027051,\n",
       "       155.59545418, 309.040401  , 169.75759034, 171.41851919,\n",
       "       107.67102545, 148.60201363, 168.97120092, 137.56545611,\n",
       "       156.37726153, 154.3588583 , 287.610357  , 118.22611466,\n",
       "       266.35852664, 152.61684522, 117.46343903, 155.56052831,\n",
       "       170.53704526, 305.32456296, 155.69642871, 159.87333808,\n",
       "       157.53021674, 119.84034448, 155.68392438, 273.58401705,\n",
       "       118.57729831, 154.89503386, 127.13625133, 153.91768232,\n",
       "       293.11698122, 278.45720258, 133.52348021, 207.84526659,\n",
       "       121.85553184, 251.48523976, 161.07776237, 286.96310825,\n",
       "       124.67356224, 150.92645826, 132.01279483, 206.24802299,\n",
       "       161.30394072, 234.63006321, 157.32823859, 144.69822973,\n",
       "       127.14551718, 140.87932014, 209.0540431 , 147.02121742,\n",
       "       125.45208156, 121.72550689, 148.58003252, 150.07024873,\n",
       "       136.95255833, 128.14402645, 153.93271396, 152.90388458,\n",
       "       129.44343905, 146.41552745, 206.68325246, 289.31095118,\n",
       "       146.92126558, 153.04917323, 151.05479674, 269.14250594,\n",
       "       171.68523038, 123.14489384, 152.17198302, 127.88213161,\n",
       "       129.03235365, 195.63968937, 103.91331207, 160.34309779,\n",
       "       116.6692181 , 148.68334999, 161.22780618, 151.73650033,\n",
       "       152.48467586, 133.70196932, 153.58781235, 154.93184185,\n",
       "       123.87528346, 204.45167578, 137.76939394, 144.63872838,\n",
       "       141.6694479 , 154.41185683, 158.00398439, 193.35949404,\n",
       "       237.28667197, 118.04168672, 145.49888864, 153.82121961,\n",
       "       144.66235477, 142.94693186, 227.03499084, 282.97382921,\n",
       "       119.41115257, 123.32007088, 134.64001543, 148.78300236,\n",
       "       123.54834884, 170.17595347, 154.18645557, 138.684143  ,\n",
       "       156.95097484, 117.4593149 , 246.22836126, 137.93555465,\n",
       "       159.20807569, 142.46465799, 151.00016169, 140.3162797 ,\n",
       "       153.6722174 , 143.37210965, 145.09151171, 143.51021419,\n",
       "       166.40191251, 246.66485567, 139.33044198, 124.21314706,\n",
       "       147.37972108, 158.89128129, 156.64212052, 143.70220405,\n",
       "       269.37168046, 157.71442901, 237.01213329, 127.54545425,\n",
       "       124.73733747, 146.42610814, 229.64126064, 117.14156378,\n",
       "       138.23613852, 115.02036951, 118.47410943, 118.72422605,\n",
       "       148.1521704 , 132.83742187, 199.34570522, 134.82585185,\n",
       "       133.92368179, 156.7224313 , 135.76459017, 152.48219227,\n",
       "       265.17662853, 124.40121133, 162.14066659, 231.03030632,\n",
       "       132.29869531, 279.56595367, 153.95550203, 175.61076694,\n",
       "       131.89451823, 155.41229957, 245.13267811, 141.76668408,\n",
       "       279.48772024, 132.01601945, 283.04180546, 128.77849472,\n",
       "       148.65107891, 162.07637511, 135.07324767, 133.15415397,\n",
       "       148.50541976, 149.90171804, 143.00928477])"
      ]
     },
     "execution_count": 12,
     "metadata": {},
     "output_type": "execute_result"
    }
   ],
   "source": [
    "model.predict(x_test)                          #prediction of testing data"
   ]
  },
  {
   "cell_type": "code",
   "execution_count": 13,
   "id": "b7f36377",
   "metadata": {},
   "outputs": [
    {
     "data": {
      "text/plain": [
       "0.9994806461418184"
      ]
     },
     "execution_count": 13,
     "metadata": {},
     "output_type": "execute_result"
    }
   ],
   "source": [
    "model.score(x_test,y_test)    #calculating similarity percentage between testing output from model and the original testing data"
   ]
  },
  {
   "cell_type": "code",
   "execution_count": null,
   "id": "561ad00b",
   "metadata": {},
   "outputs": [],
   "source": [
    "# We got the accuracy of the model as 99.95% by testing it with the testing data"
   ]
  }
 ],
 "metadata": {
  "kernelspec": {
   "display_name": "Python 3 (ipykernel)",
   "language": "python",
   "name": "python3"
  },
  "language_info": {
   "codemirror_mode": {
    "name": "ipython",
    "version": 3
   },
   "file_extension": ".py",
   "mimetype": "text/x-python",
   "name": "python",
   "nbconvert_exporter": "python",
   "pygments_lexer": "ipython3",
   "version": "3.9.13"
  }
 },
 "nbformat": 4,
 "nbformat_minor": 5
}
